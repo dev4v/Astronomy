{
  "cells": [
    {
      "cell_type": "code",
      "execution_count": 1,
      "id": "a6eaeebf",
      "metadata": {},
      "outputs": [],
      "source": [
        "# Access astronomical databases\n",
        "from pyvo import registry  # version >=1.4.1 \n",
        "\n",
        "# Moc and HEALPix tools\n",
        "from mocpy import MOC\n",
        "\n",
        "# Sky visualization\n",
        "from ipyaladin import Aladin    # version >=0.3.0\n",
        "\n",
        "# For plots\n",
        "import matplotlib.pyplot as plt"
      ]
    },
    {
      "cell_type": "markdown",
      "id": "7ad7861f",
      "metadata": {},
      "source": [
        "# Welcome to VizieR example workflow\n",
        "\n",
        "[![Vizier](https://custom-icon-badges.demolab.com/badge/Vizier-gray.svg?logo=vizier&logoColor=orange&logoWidth=20)](https://vizier.cds.unistra.fr/viz-bin/VizieR \"https://vizier.cds.unistra.fr/viz-bin/VizieR\")\n",
        "\n",
        "It is a generic notebook, highlighting what can be done once you chose a catalog. This workflow is suggested by [CDS](https://cdsweb.unistra.fr/) (Strasbourg Astronomical Data Center, house of [VizieR](https://vizier.cds.unistra.fr/viz-bin/VizieR)).\n",
        "\n",
        "--------------------------------------------------------\n",
        "\n",
        "Modify the <a href='https://vizier.cds.unistra.fr/'>VizieR catalogue</a> name (variable <b>CATALOGUE</b>) and anything else you might feel like exploring!\n",
        "\n",
        "## 1. Setup\n",
        "\n",
        "This example notebook has the following dependencies: \n",
        "\n",
        "**Required**\n",
        "- pyvo : this library facilitates the access to the Virtual Observatory (VO) resources. VizieR is part of the VO.\n",
        "This notebook needs version >=1.4.1\n",
        "\n",
        "**Optional, for visualization**\n",
        "- ipyaladin : this is the Aladin-lite sky viewer, bundled as a jupyter widget. It allows to plot catalogs and multi-order coverages (MOC)\n",
        "- matplotlib : an other option to see catalog points and MOCs\n",
        "\n",
        "## 2. Metadata exploration with the Virtual Observatory registry\n",
        "\n",
        "This part uses [pyvo](https://pyvo.readthedocs.io/en) to connect to the VO registry."
      ]
    },
    {
      "cell_type": "code",
      "execution_count": 2,
      "id": "95888801",
      "metadata": {},
      "outputs": [],
      "source": [
        "# the catalogue name in VizieR\n",
        "CATALOGUE = \"J/A+A/686/L2\""
      ]
    },
    {
      "cell_type": "markdown",
      "id": "26ad3c69",
      "metadata": {},
      "source": [
        "We first retrieve catalogue information."
      ]
    },
    {
      "cell_type": "code",
      "execution_count": 3,
      "id": "6db57e6b",
      "metadata": {},
      "outputs": [],
      "source": [
        "# each resource in the VO has an identifier, called ivoid. For vizier catalogs,\n",
        "# the VO ids can be constructed like this:\n",
        "catalogue_ivoid = f\"ivo://CDS.VizieR/{CATALOGUE}\"\n",
        "# the actual query to the registry\n",
        "voresource = registry.search(ivoid=catalogue_ivoid)[0]"
      ]
    },
    {
      "cell_type": "code",
      "execution_count": 4,
      "id": "f3e975e3",
      "metadata": {},
      "outputs": [
        {
          "name": "stdout",
          "output_type": "stream",
          "text": [
            "Dormant 33 solar-masses black hole\n",
            "Short Name: J/A+A/686/L2\n",
            "IVOA Identifier: ivo://cds.vizier/j/a+a/686/l2\n",
            "Access modes: tap#aux, web\n",
            "Multi-capability service -- use get_service()\n",
            "\n",
            "We announce the serendipitous discovery of a nearby (590pc) binary system\n",
            "composed of an old very metal-poor giant star orbiting a black hole with an\n",
            "estimated mass of 33M_{sun}_, in 11.6yr. The system was identified while\n",
            "validating the preliminary Gaia astrometric binary solutions produced in\n",
            "preparation for Gaia DR4, and was confirmed by Gaia RVS radial-velocity data.\n",
            "\n",
            "Waveband Coverage:\n",
            "\n",
            "Source: 2024A&A...686L...2G\n",
            "Authors: Gaia Collaboration,  Panuzzo P.,  Mazeh T.,  Arenou F.,  Holl B. et al.\n",
            "See creators attribute for the complete list of authors.\n",
            "Alternative identifier(s): doi:10.26093/cds/vizier.36869002\n",
            "More info: https://cdsarc.cds.unistra.fr/viz-bin/cat/J/A+A/686/L2\n"
          ]
        }
      ],
      "source": [
        "# We can print metadata information about the catalogue\n",
        "voresource.describe(verbose=True)"
      ]
    },
    {
      "cell_type": "markdown",
      "id": "bd2a7ae3",
      "metadata": {},
      "source": [
        "We can also inspect in details the `resource` object and access the attributes not provided by the describe method. See for example, the first author of a resource: "
      ]
    },
    {
      "cell_type": "code",
      "execution_count": 5,
      "id": "f5a53605",
      "metadata": {},
      "outputs": [
        {
          "data": {
            "text/plain": [
              "'Gaia Collaboration'"
            ]
          },
          "execution_count": 5,
          "metadata": {},
          "output_type": "execute_result"
        }
      ],
      "source": [
        "voresource.creators[0]"
      ]
    },
    {
      "cell_type": "markdown",
      "id": "5a457510",
      "metadata": {},
      "source": [
        "## 3. Access the tabular data of this catalog\n",
        "\n",
        "We can have a look at the tables available in the catalogue."
      ]
    },
    {
      "cell_type": "code",
      "execution_count": 6,
      "id": "92ebe10f",
      "metadata": {},
      "outputs": [
        {
          "name": "stderr",
          "output_type": "stream",
          "text": [
            "WARNING: W02: ?:?:?: W02: '' is not a valid datatype according to the VOSI spec [pyvo.io.vosi.vodataservice]\n"
          ]
        },
        {
          "data": {
            "text/plain": [
              "{'J/A+A/686/L2/tableb1': <VODataServiceTable name=\"J/A+A/686/L2/tableb1\">... 9 columns ...</VODataServiceTable>,\n",
              " 'J/A+A/686/L2/tableb2': <VODataServiceTable name=\"J/A+A/686/L2/tableb2\">... 5 columns ...</VODataServiceTable>}"
            ]
          },
          "execution_count": 6,
          "metadata": {},
          "output_type": "execute_result"
        }
      ],
      "source": [
        "tables = voresource.get_tables()\n",
        "tables"
      ]
    },
    {
      "cell_type": "code",
      "execution_count": 7,
      "id": "81514878",
      "metadata": {},
      "outputs": [
        {
          "data": {
            "text/plain": [
              "['J/A+A/686/L2/tableb1', 'J/A+A/686/L2/tableb2']"
            ]
          },
          "execution_count": 7,
          "metadata": {},
          "output_type": "execute_result"
        }
      ],
      "source": [
        "# We can also extract the tables names for later use\n",
        "tables_names = list(tables.keys())\n",
        "tables_names"
      ]
    },
    {
      "cell_type": "markdown",
      "id": "eedac527",
      "metadata": {},
      "source": [
        "The actual data can then be access using any of the ``access_modes`` of the voresource."
      ]
    },
    {
      "cell_type": "code",
      "execution_count": 8,
      "id": "32db444e",
      "metadata": {},
      "outputs": [
        {
          "data": {
            "text/plain": [
              "{'tap#aux', 'web'}"
            ]
          },
          "execution_count": 8,
          "metadata": {},
          "output_type": "execute_result"
        }
      ],
      "source": [
        "voresource.access_modes()"
      ]
    },
    {
      "cell_type": "markdown",
      "id": "4a7dd42f",
      "metadata": {},
      "source": [
        "The web access is found by following the ``reference_url``"
      ]
    },
    {
      "cell_type": "code",
      "execution_count": 9,
      "id": "545f9bf8",
      "metadata": {},
      "outputs": [
        {
          "data": {
            "text/plain": [
              "'https://cdsarc.cds.unistra.fr/viz-bin/cat/J/A+A/686/L2'"
            ]
          },
          "execution_count": 9,
          "metadata": {},
          "output_type": "execute_result"
        }
      ],
      "source": [
        "voresource.reference_url"
      ]
    },
    {
      "cell_type": "markdown",
      "id": "abee6ce7",
      "metadata": {},
      "source": [
        "### 3.1 Execute a SQL/ADQL query\n",
        "\n",
        "The ``tap#aux`` in the ``access_mode`` response indicates that we can also do a SQL/ADQL query for these VizieR tables.\n",
        "\n",
        "On the first table of the catalogue, we execute an <a href='https://www.ivoa.net/documents/latest/ADQL.html'>ADQL</a> query."
      ]
    },
    {
      "cell_type": "code",
      "execution_count": 10,
      "id": "3a8b8d60",
      "metadata": {},
      "outputs": [
        {
          "data": {
            "text/plain": [
              "<DALResultsTable length=5>\n",
              "recno     TransitID     CCDID    ObsTime     ... plxFactal     ScanPA    outFlag\n",
              "                                    d        ...                deg             \n",
              "int32       int64       int16    float64     ...  float64     float64     int16 \n",
              "----- ----------------- ----- -------------- ... ---------- ------------ -------\n",
              "    1 20114916805338633     1 2456958.110978 ... 0.70827985 -59.04672662       0\n",
              "    2 20114916805338633     2 2456958.111034 ... 0.70827991 -59.04677105       0\n",
              "    3 20114916805338633     3 2456958.111091 ... 0.70828003 -59.04681553       0\n",
              "    4 20114916805338633     4 2456958.111156 ... 0.70828015 -59.04686711       0\n",
              "    5 20114916805338633     5 2456958.111203 ... 0.70828021 -59.04690435       0"
            ]
          },
          "execution_count": 10,
          "metadata": {},
          "output_type": "execute_result"
        }
      ],
      "source": [
        "# get the first table of the catalogue\n",
        "first_table_name = tables_names[0]\n",
        "\n",
        "# execute a synchronous ADQL query\n",
        "tap_service = voresource.get_service(\"tap\")\n",
        "tap_records = voresource.get_service(\"tap\").run_sync(\n",
        "    f'select TOP 5 * from \"{first_table_name}\"',\n",
        ")\n",
        "tap_records"
      ]
    },
    {
      "cell_type": "code",
      "execution_count": 11,
      "id": "502c9904",
      "metadata": {},
      "outputs": [],
      "source": [
        "import pyvo as vo\n",
        "service = vo.dal.TAPService(\"http://dc.g-vo.org/tap\")"
      ]
    },
    {
      "cell_type": "code",
      "execution_count": 12,
      "id": "7854b9bd",
      "metadata": {},
      "outputs": [],
      "source": [
        "resultset = service.search(\"SELECT TOP 1 * FROM ivoa.obscore\")"
      ]
    },
    {
      "cell_type": "code",
      "execution_count": 13,
      "id": "2644ac7f",
      "metadata": {},
      "outputs": [
        {
          "data": {
            "text/plain": [
              "<DALResultsTable length=1>\n",
              "dataproduct_type dataproduct_subtype ... source_table\n",
              "                                     ...             \n",
              "     object             object       ...    object   \n",
              "---------------- ------------------- ... ------------\n",
              "           image                     ... ppakm31.maps"
            ]
          },
          "execution_count": 13,
          "metadata": {},
          "output_type": "execute_result"
        }
      ],
      "source": [
        "resultset"
      ]
    },
    {
      "cell_type": "markdown",
      "id": "f2b514eb",
      "metadata": {},
      "source": [
        "#access modes Pyvo"
      ]
    },
    {
      "cell_type": "code",
      "execution_count": 14,
      "id": "70d6cfb5",
      "metadata": {},
      "outputs": [
        {
          "name": "stdout",
          "output_type": "stream",
          "text": [
            "ivo://archive.stsci.edu/caomtap\n",
            "ivo://astro.ucl.ac.uk/tap\n",
            "ivo://astron.nl/tap\n",
            "ivo://asu.cas.cz/tap\n",
            "ivo://au.csiro/atoavo/tap\n",
            "ivo://au.csiro/casda/tap\n",
            "ivo://byu.arvo/tap\n",
            "ivo://cadc.nrc.ca/argus\n",
            "ivo://cefca/j-pas/j-pas-edr\n",
            "ivo://cefca/j-plus/j-plus-dr1\n",
            "ivo://cefca/j-plus/j-plus-dr2\n",
            "ivo://cefca/j-plus/j-plus-dr3\n",
            "ivo://cefca/jnep/j-nep-pdr202107\n",
            "ivo://cefca/minijpas/minij-pas-pdr201912\n",
            "ivo://cfa.tdc/tap\n",
            "ivo://chivo/tap\n",
            "ivo://eso.org/tap_obs\n",
            "ivo://fai.kz/tap\n",
            "ivo://fu-berlin.planet.hrsc/tap\n",
            "ivo://jive.eu/tap\n",
            "ivo://jvo/alma\n",
            "ivo://jvo/isas/darts/akari/akari-irc_catalogue_allsky_astflux_1.0\n",
            "ivo://jvo/isas/darts/akari/akari-irc_spectrum_pointed_diffuseskypatch_1.0\n",
            "ivo://jvo/isas/darts/akari/akari-irc_spectrum_pointed_galpn_1.0\n",
            "ivo://jvo/isas/darts/akari/akari-irc_spectrum_pointed_slitlessmir_spectrum_1.0\n",
            "ivo://jvo/isas/darts/akari/obstap\n",
            "ivo://jvo/isas/darts/halca/halca_vsop_correlated_data\n",
            "ivo://jvo/isas/darts/halca/halca_vsop_survey_program_data\n",
            "ivo://jvo/isas/darts/hitomi/hitomaster_v1\n",
            "ivo://jvo/nobeyama\n",
            "ivo://jvo/subaru/spcam\n",
            "ivo://lam.cesam/tap\n",
            "ivo://nci.org.au/macho/tap\n",
            "ivo://nci.org.au/wigglez/tap\n",
            "ivo://org.gavo.dc/tap\n",
            "ivo://padc.obspm.astro/tap\n",
            "ivo://padc.obspm.he/tap\n",
            "ivo://padc.obspm.nancay/tap\n",
            "ivo://pvol/tap\n",
            "ivo://spectrum.iaa/tap\n",
            "ivo://uni-heidelberg.de/gaia/tap\n",
            "ivo://voxastro.org/tap\n"
          ]
        }
      ],
      "source": [
        "for service in vo.regsearch(datamodel=\"obscore\"):\n",
        "  print(service['ivoid']) "
      ]
    }
  ],
  "metadata": {
    "kernelspec": {
      "display_name": "Python 3",
      "language": "python",
      "name": "python3"
    },
    "language_info": {
      "codemirror_mode": {
        "name": "ipython",
        "version": 3
      },
      "file_extension": ".py",
      "mimetype": "text/x-python",
      "name": "python",
      "nbconvert_exporter": "python",
      "pygments_lexer": "ipython3",
      "version": "3.11.9"
    },
    "widgets": {
      "application/vnd.jupyter.widget-state+json": {
        "state": {
          "614c056f9da546e99e13516067d84b51": {
            "model_module": "ipyaladin",
            "model_module_version": "^0.2.5",
            "model_name": "AladinModel",
            "state": {
              "_model_module_version": "^0.2.5",
              "_view_module_version": "^0.2.5",
              "allow_full_zoomout": false,
              "color_map_flag": true,
              "color_map_name": "",
              "coo_frame": "J2000",
              "fov": 0.40402,
              "full_screen": false,
              "height": 400,
              "layout": "IPY_MODEL_b614942c85f143f29cb69fd61d31fc08",
              "listener_flag": true,
              "listener_type": "",
              "log": true,
              "moc_URL": "https://cdsarc.cds.unistra.fr/viz-bin/moc/J/AJ/157/229",
              "moc_dict": {},
              "moc_from_URL_flag": false,
              "moc_from_dict_flag": true,
              "moc_options": {
                "color": "pink",
                "opacity": 0.5
              },
              "options": [
                "allow_full_zoomout",
                "coo_frame",
                "fov",
                "full_screen",
                "log",
                "overlay_survey",
                "overlay_survey_opacity",
                "reticle_color",
                "reticle_size",
                "show_catalog",
                "show_context_menu",
                "show_coo_grid",
                "show_frame",
                "show_fullscreen_control",
                "show_goto_control",
                "show_layers_control",
                "show_reticle",
                "show_share_control",
                "show_simbad_pointer_control",
                "show_zoom_control",
                "survey",
                "target"
              ],
              "overlay_from_stcs_flag": true,
              "overlay_options": {},
              "overlay_survey": "",
              "overlay_survey_opacity": 0,
              "rectangular_selection_flag": true,
              "reticle_color": "rgb(178, 50, 178)",
              "reticle_size": 22,
              "show_catalog": true,
              "show_context_menu": true,
              "show_coo_grid": false,
              "show_frame": true,
              "show_fullscreen_control": false,
              "show_goto_control": true,
              "show_layers_control": true,
              "show_reticle": true,
              "show_share_control": false,
              "show_simbad_pointer_control": true,
              "show_zoom_control": true,
              "stc_string": "",
              "survey": "P/DSS2/color",
              "table_columns": [
                [
                  1,
                  "1757132",
                  7608,
                  42.48899841308594,
                  3.298799967454795e-14,
                  7.765999871681779e-16,
                  3.2987999886306186e-16,
                  8,
                  211.1,
                  1
                ],
                [
                  2,
                  "1757132",
                  7624,
                  55.70100021362305,
                  3.3175000832379176e-14,
                  6.217699877066171e-16,
                  3.3175000938258294e-16,
                  8,
                  211.1,
                  1
                ],
                [
                  3,
                  "1757132",
                  7640,
                  67.34300231933594,
                  3.196099933105642e-14,
                  5.155499914781189e-16,
                  3.196099890753995e-16,
                  8,
                  211.1,
                  1
                ],
                [
                  4,
                  "1757132",
                  7656,
                  83.2770004272461,
                  3.1485000696017396e-14,
                  4.2738000265781385e-16,
                  3.1485000801896514e-16,
                  8,
                  211.1,
                  1
                ],
                [
                  5,
                  "1757132",
                  7672,
                  108.45999908447266,
                  3.169599999131023e-14,
                  3.4893998718173733e-16,
                  3.169599935603552e-16,
                  8,
                  211.1,
                  1
                ],
                [
                  6,
                  "1757132",
                  7688,
                  142.10000610351562,
                  3.182499972104527e-14,
                  2.856200127399625e-16,
                  3.182499982692439e-16,
                  8,
                  211.1,
                  1
                ],
                [
                  7,
                  "1757132",
                  7704,
                  183.4600067138672,
                  3.21299993446926e-14,
                  2.3906999363462235e-16,
                  3.2130000509362903e-16,
                  8,
                  211.1,
                  1
                ],
                [
                  8,
                  "1757132",
                  7720,
                  222.55999755859375,
                  3.195000145526927e-14,
                  2.072299986775536e-16,
                  3.1950000714115444e-16,
                  8,
                  211.1,
                  1
                ],
                [
                  9,
                  "1757132",
                  7736,
                  253.0500030517578,
                  3.1498000957691855e-14,
                  1.8742999473055349e-16,
                  3.1498000110658907e-16,
                  8,
                  211.1,
                  1
                ],
                [
                  10,
                  "1757132",
                  7752,
                  275.17999267578125,
                  3.10060001762133e-14,
                  1.745300005812257e-16,
                  3.1006001023246247e-16,
                  8,
                  211.1,
                  1
                ]
              ],
              "table_flag": false,
              "table_keys": [
                "recno",
                "ID",
                "Wave",
                "Net",
                "Flux",
                "Stat-err",
                "Sys-err",
                "Nobs",
                "Exp",
                "Qual"
              ],
              "target": "76.446253 52.849186",
              "thumbnail_flag": true,
              "votable_URL": "",
              "votable_from_URL_flag": true,
              "votable_options": {}
            }
          },
          "b614942c85f143f29cb69fd61d31fc08": {
            "model_module": "@jupyter-widgets/base",
            "model_module_version": "2.0.0",
            "model_name": "LayoutModel",
            "state": {}
          }
        },
        "version_major": 2,
        "version_minor": 0
      }
    }
  },
  "nbformat": 4,
  "nbformat_minor": 5
}
